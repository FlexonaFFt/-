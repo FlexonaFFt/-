{
  "nbformat": 4,
  "nbformat_minor": 0,
  "metadata": {
    "colab": {
      "provenance": []
    },
    "kernelspec": {
      "name": "python3",
      "display_name": "Python 3"
    },
    "language_info": {
      "name": "python"
    }
  },
  "cells": [
    {
      "cell_type": "markdown",
      "source": [
        "# **Конспект занятия словари**\n",
        "---\n",
        "**Раздел 3 - Работа со словарём**\n",
        "\n",
        "Извлечь значение элемента словаря можно единственным образом —\n",
        "обратившись к нему по его ключу"
      ],
      "metadata": {
        "id": "kKaLIZ5kMpTL"
      }
    },
    {
      "cell_type": "code",
      "source": [
        "hero_inventory = dict(strong_right_hand='sword',\n",
        "strong_left_hand='shield +3')\n",
        "what_in_right_hand = hero_inventory['strong_right_hand']\n",
        "print(what_in_right_hand)"
      ],
      "metadata": {
        "colab": {
          "base_uri": "https://localhost:8080/"
        },
        "id": "_WsccVw7NWgI",
        "outputId": "8d04aaaf-5ca9-4cba-e9d2-6c8b6ac18ffe"
      },
      "execution_count": 1,
      "outputs": [
        {
          "output_type": "stream",
          "name": "stdout",
          "text": [
            "sword\n"
          ]
        }
      ]
    },
    {
      "cell_type": "markdown",
      "source": [
        "Для того чтобы добавить в словарь новые данные достаточно новому\n",
        "ключу этого словаря назначить какое-либо значение."
      ],
      "metadata": {
        "id": "VnvCmYijO3H_"
      }
    },
    {
      "cell_type": "code",
      "source": [
        "superhero_dict = {'dc_hero': 'Flash'}\n",
        "superhero_dict['dark_horse_hero'] = 'Hellboy'\n",
        "print(superhero_dict)"
      ],
      "metadata": {
        "colab": {
          "base_uri": "https://localhost:8080/"
        },
        "id": "RakYdyBuO6Pp",
        "outputId": "0284ca38-63f2-4434-b2bb-de9b25b8f4fc"
      },
      "execution_count": 2,
      "outputs": [
        {
          "output_type": "stream",
          "name": "stdout",
          "text": [
            "{'dc_hero': 'Flash', 'dark_horse_hero': 'Hellboy'}\n"
          ]
        }
      ]
    },
    {
      "cell_type": "markdown",
      "source": [
        "Для того чтобы удалить запись в словаре воспользуемся оператором del:"
      ],
      "metadata": {
        "id": "wK6VB9QyPIRR"
      }
    },
    {
      "cell_type": "code",
      "source": [
        "superhero_dict = {'dc_hero': 'Flash', 'dark_horse_hero':\n",
        "'Hellboy'}\n",
        "del superhero_dict['dark_horse_hero']\n",
        "print(superhero_dict)"
      ],
      "metadata": {
        "colab": {
          "base_uri": "https://localhost:8080/"
        },
        "id": "oCW5r1S_PI6K",
        "outputId": "e631a8a9-bfa7-4386-a3ce-433bb1ad4a9b"
      },
      "execution_count": 3,
      "outputs": [
        {
          "output_type": "stream",
          "name": "stdout",
          "text": [
            "{'dc_hero': 'Flash'}\n"
          ]
        }
      ]
    },
    {
      "cell_type": "markdown",
      "source": [
        "Обращение по несуществующему ключу вызывает ошибку в работе\n",
        "интерпретатора. Поэтому, наличие ключа в словаре следует проверять. За это\n",
        "дело отвечает оператор in:"
      ],
      "metadata": {
        "id": "oGPy2EWTPTC2"
      }
    },
    {
      "cell_type": "code",
      "source": [
        "superhero_dict = {'dc_hero': 'Flash', 'dark_horse_hero':\n",
        "'Hellboy'}\n",
        "if 'dc_hero' in superhero_dict:\n",
        "  print (\"Да, такой ключ есть\")\n",
        "else:\n",
        "  print(\"Этот ключ в словаре отсутствует!\")"
      ],
      "metadata": {
        "colab": {
          "base_uri": "https://localhost:8080/"
        },
        "id": "dgPD8ykvPTr_",
        "outputId": "574f3f46-523a-462d-c9b1-7780557ca132"
      },
      "execution_count": 4,
      "outputs": [
        {
          "output_type": "stream",
          "name": "stdout",
          "text": [
            "Да, такой ключ есть\n"
          ]
        }
      ]
    },
    {
      "cell_type": "markdown",
      "source": [
        "Стоит помнить, что словарь — это лишь набор отображений, а не\n",
        "последовательность, однако количество записей в нём мы все еще можем\n",
        "получить, воспользовавшись функцией len():"
      ],
      "metadata": {
        "id": "AnOBPBkCPa80"
      }
    },
    {
      "cell_type": "code",
      "source": [
        "treasure = dict(t1='gold', t2='necklace')\n",
        "num_of_items = len(treasure)\n",
        "print(num_of_items)"
      ],
      "metadata": {
        "colab": {
          "base_uri": "https://localhost:8080/"
        },
        "id": "pIb8Sq_QPbsL",
        "outputId": "97fe16b1-59b9-4888-eca8-eaea147c1d9d"
      },
      "execution_count": 5,
      "outputs": [
        {
          "output_type": "stream",
          "name": "stdout",
          "text": [
            "2\n"
          ]
        }
      ]
    },
    {
      "cell_type": "markdown",
      "source": [
        "Так как словарь состоит из пар, то и отсортировать его можно, как по\n",
        "ключам, так и по значениям.\n",
        "\n",
        "Сортировка по ключу. Сортировка по ключам выполняется с\n",
        "использованием функции sorted(). Работает функция так:"
      ],
      "metadata": {
        "id": "BWWFpJhTPvnu"
      }
    },
    {
      "cell_type": "code",
      "source": [
        "statistic_dict = {'b': 13, 'd': 30, 'e': -32, 'c': 93, 'a': 33}\n",
        "for key in sorted(statistic_dict):\n",
        "  print(key)"
      ],
      "metadata": {
        "colab": {
          "base_uri": "https://localhost:8080/"
        },
        "id": "0DgNeNJkPxUj",
        "outputId": "6216ad6a-dc10-4b3c-fc74-b3808aef86a7"
      },
      "execution_count": 7,
      "outputs": [
        {
          "output_type": "stream",
          "name": "stdout",
          "text": [
            "a\n",
            "b\n",
            "c\n",
            "d\n",
            "e\n"
          ]
        }
      ]
    },
    {
      "cell_type": "markdown",
      "source": [
        "Сортировка по значению. Вот один из вариантов сортировки словаря по\n",
        "значениям:"
      ],
      "metadata": {
        "id": "-OObxFyLQFy_"
      }
    },
    {
      "cell_type": "code",
      "source": [
        "elements = {'el1': 1, 'el2': 0, 'el3': -2, 'el4': 95, 'el5': 13}\n",
        "for key, val in sorted(elements.items(), key= lambda x: x[1]):\n",
        "  print(val)"
      ],
      "metadata": {
        "colab": {
          "base_uri": "https://localhost:8080/"
        },
        "id": "rPnyweN2QGXZ",
        "outputId": "1496a629-fa0f-4e99-a51e-105662819252"
      },
      "execution_count": 8,
      "outputs": [
        {
          "output_type": "stream",
          "name": "stdout",
          "text": [
            "-2\n",
            "0\n",
            "1\n",
            "13\n",
            "95\n"
          ]
        }
      ]
    },
    {
      "cell_type": "markdown",
      "source": [
        "Обрати внимание! Здесь стоит учитывать, что, сама по себе, запись\n",
        "sorted(elements.items(), key= lambda x: x[1]) будет возвращать не словарь, а\n",
        "отсортированный список кортежей. Поэтому более правильным вариантом\n",
        "будет:"
      ],
      "metadata": {
        "id": "nYRbwxGhQJZh"
      }
    },
    {
      "cell_type": "code",
      "source": [
        "elements = {'el1': 1, 'el2': 0, 'el3': -2, 'el4': 95, 'el5': 13}\n",
        "elements_sorted = {k: elements[k] for k in sorted(elements,\n",
        "key=elements.get, reverse=True)}\n",
        "print(elements_sorted)"
      ],
      "metadata": {
        "colab": {
          "base_uri": "https://localhost:8080/"
        },
        "id": "f7CK4dSUQPCG",
        "outputId": "1db629c2-5efe-4ad7-dd69-9be707951ad3"
      },
      "execution_count": 9,
      "outputs": [
        {
          "output_type": "stream",
          "name": "stdout",
          "text": [
            "{'el4': 95, 'el5': 13, 'el1': 1, 'el2': 0, 'el3': -2}\n"
          ]
        }
      ]
    },
    {
      "cell_type": "markdown",
      "source": [
        "Словарь, являющийся, по сути своей, набором пар (т.е. коллекцией),\n",
        "можно всячески итерировать. Один из способов — перебор по ключам:"
      ],
      "metadata": {
        "id": "t7Aq9SFAQRPw"
      }
    },
    {
      "cell_type": "markdown",
      "source": [],
      "metadata": {
        "id": "yOi8JVzuRI5K"
      }
    },
    {
      "cell_type": "code",
      "source": [
        "iter_dict = {'key_b': '1', 'key_d': 0, 'key_e': -2, 'key_c': 95, 'key_a': 13}\n",
        "for key in iter_dict:\n",
        "  print(key, end=' ')"
      ],
      "metadata": {
        "colab": {
          "base_uri": "https://localhost:8080/"
        },
        "id": "NV4QXGwqQTw7",
        "outputId": "99948859-64e6-4e2d-bef1-639b59361e2f"
      },
      "execution_count": 10,
      "outputs": [
        {
          "output_type": "stream",
          "name": "stdout",
          "text": [
            "key_b key_d key_e key_c key_a "
          ]
        }
      ]
    },
    {
      "cell_type": "markdown",
      "source": [
        "Другой способ — проитерировать с использованием метода .items(). В\n",
        "этом случае на каждой итерации, пара ключ:значение будет возвращаться к\n",
        "нам в виде кортежа (‘ключ’, значение):"
      ],
      "metadata": {
        "id": "9JUYS7HQRPBW"
      }
    },
    {
      "cell_type": "code",
      "source": [
        "iter_dict = {'key_b': '1', 'key_d': 0, 'key_e': -2, 'key_c': 95, 'key_a': 13}\n",
        "for item in iter_dict.items():\n",
        "  print(item, end=' ')"
      ],
      "metadata": {
        "colab": {
          "base_uri": "https://localhost:8080/"
        },
        "id": "UwBFgxvIRPtX",
        "outputId": "7749ee7c-c8e4-4f6c-a4cf-61928dd55fdd"
      },
      "execution_count": 11,
      "outputs": [
        {
          "output_type": "stream",
          "name": "stdout",
          "text": [
            "('key_b', '1') ('key_d', 0) ('key_e', -2) ('key_c', 95) ('key_a', 13) "
          ]
        }
      ]
    },
    {
      "cell_type": "markdown",
      "source": [
        "Мы можем перебрать значения словаря, пользуясь методом .values():"
      ],
      "metadata": {
        "id": "c0NQKj4IRcZF"
      }
    },
    {
      "cell_type": "code",
      "source": [
        "ln_dict_iter = {'b': 'ln(1)', 'd': 'ln(10)', 'e': 'ln(2)', 'c': 'ln(95)', 'a': 'ln(13)'}\n",
        "for v in ln_dict_iter.values():\n",
        "  print(v)"
      ],
      "metadata": {
        "colab": {
          "base_uri": "https://localhost:8080/"
        },
        "id": "6-DtJGWDRc7c",
        "outputId": "2bed8474-504b-4104-fc3d-9fc15d947712"
      },
      "execution_count": 12,
      "outputs": [
        {
          "output_type": "stream",
          "name": "stdout",
          "text": [
            "ln(1)\n",
            "ln(10)\n",
            "ln(2)\n",
            "ln(95)\n",
            "ln(13)\n"
          ]
        }
      ]
    },
    {
      "cell_type": "markdown",
      "source": [
        "Когда заходит речь об объединении двух словарей, то обязательно\n",
        "следует упомянуть, что для пары сущностей типа \"словарь\" оператор \"+\"не\n",
        "определен. Причина этого становится довольно очевидной — стоит лишь\n",
        "вспомнить, что словарь не является последовательностью, а также задуматься\n",
        "над тем, какая именно операция на множестве словарей должна быть\n",
        "реализована этим самым оператором \"+\"."
      ],
      "metadata": {
        "id": "6CjtxehJRntU"
      }
    },
    {
      "cell_type": "code",
      "source": [
        "dict_1 = {'010120': 55000, '030420': 8500, '170420': 30000}\n",
        "dict_2 = {'050520': 2900, '160520': 16573}\n",
        "print(dict_1 + dict_2)"
      ],
      "metadata": {
        "id": "3ZWzB3Y6RoRv"
      },
      "execution_count": null,
      "outputs": []
    },
    {
      "cell_type": "markdown",
      "source": [
        "Если вы хотите добиться результата и всё же выполнить объединение\n",
        "двух словарей, то достаточно воспользоваться методом .update():"
      ],
      "metadata": {
        "id": "ru5_V0U7RyVy"
      }
    },
    {
      "cell_type": "code",
      "source": [
        "showcase_1 = {'Apple': 2.7, 'Grape': 3.5, 'Banana': 4.4}\n",
        "showcase_2 = {'Orange': 1.9, 'Coconut': 10}\n",
        "showcase_1.update(showcase_2)\n",
        "print(showcase_1)"
      ],
      "metadata": {
        "colab": {
          "base_uri": "https://localhost:8080/"
        },
        "id": "1ZYK48ZIRzeK",
        "outputId": "9f2ba16a-96a0-4604-d83f-11ebcb1277d7"
      },
      "execution_count": 14,
      "outputs": [
        {
          "output_type": "stream",
          "name": "stdout",
          "text": [
            "{'Apple': 2.7, 'Grape': 3.5, 'Banana': 4.4, 'Orange': 1.9, 'Coconut': 10}\n"
          ]
        }
      ]
    },
    {
      "cell_type": "markdown",
      "source": [
        "Замечание. Если бы showcase_2 содержал ключи, присутствующие в\n",
        "showcase_1, то значения, ассоциированные с этими ключами, в\n",
        "результирующем словаре были бы взяты именно из showcase_2."
      ],
      "metadata": {
        "id": "X4bgJHbdR8_A"
      }
    },
    {
      "cell_type": "markdown",
      "source": [
        "---\n",
        "\n",
        "**Раздел 3 - Методы словарей Python**\n",
        "\n",
        "dict.clear() — очищает словарь.\n",
        "\n",
        "dict.copy() — возвращает копию словаря.\n",
        "\n",
        "classmethod dict.fromkeys(seq[, value]) — создает словарь с ключами из seq и\n",
        "значением value (по умолчанию None).\n",
        "\n",
        "dict.get(key[, default]) — возвращает значение ключа, но если его нет, не\n",
        "бросает исключение, а возвращает default (по умолчанию None).\n",
        "\n",
        "dict.items() — возвращает пары (ключ, значение).\n",
        "\n",
        "dict.keys() — возвращает ключи в словаре.\n",
        "\n",
        "dict.pop(key[, default]) — удаляет ключ и возвращает значение. Если ключа\n",
        "нет, возвращает default (по умолчанию бросает исключение).\n",
        "\n",
        "dict.popitem() — удаляет и возвращает пару (ключ, значение). Если словарь\n",
        "пуст, бросает исключение KeyError. Помните, что словари неупорядочены.\n",
        "\n",
        "dict.setdefault(key[, default]) — возвращает значение ключа, но если его нет,\n",
        "не бросает исключение, а создает ключ с значением default (по умолчанию\n",
        "None).\n",
        "\n",
        "dict.update([other]) — обновляет словарь, добавляя пары (ключ, значение) из\n",
        "other. Существующие ключи перезаписываются. Возвращает None (не новый\n",
        "словарь!).\n",
        "\n",
        "dict.values() — возвращает значения в словаре.\n",
        "\n",
        "# Примеры:"
      ],
      "metadata": {
        "id": "-GpMDkUKR-6J"
      }
    },
    {
      "cell_type": "code",
      "source": [
        "# clear()\n",
        "farewell_dict = {'a': 'word', 'b': 3, 'c': 'x', 'd': 1, 'e': 12}\n",
        "farewell_dict.clear()\n",
        "print(farewell_dict)"
      ],
      "metadata": {
        "colab": {
          "base_uri": "https://localhost:8080/"
        },
        "id": "7yfZ2OECbfgr",
        "outputId": "a63c02ba-a8c3-47c3-d41e-037b7b60ebff"
      },
      "execution_count": 1,
      "outputs": [
        {
          "output_type": "stream",
          "name": "stdout",
          "text": [
            "{}\n"
          ]
        }
      ]
    },
    {
      "cell_type": "code",
      "source": [
        "# get()\n",
        "seasons = {'winter': 'cold', 'summer': 'hot', 'autumn': 'cold'}\n",
        "print(seasons.get('winter', 'Такого ключа в словаре нет'))"
      ],
      "metadata": {
        "colab": {
          "base_uri": "https://localhost:8080/"
        },
        "id": "e2a-SIVRj0mk",
        "outputId": "5c1cf61a-6e54-496a-b7ab-409fb8d762c7"
      },
      "execution_count": 2,
      "outputs": [
        {
          "output_type": "stream",
          "name": "stdout",
          "text": [
            "cold\n"
          ]
        }
      ]
    },
    {
      "cell_type": "code",
      "source": [
        "seasons_2 = {'spring': 'warm'}\n",
        "print(seasons_2.get('nonexistent_key', 'Этот ключ отсутствует'))"
      ],
      "metadata": {
        "colab": {
          "base_uri": "https://localhost:8080/"
        },
        "id": "iLRD7o0VlGk7",
        "outputId": "bbcf7057-9ec3-4a30-a733-08f4868de63f"
      },
      "execution_count": 3,
      "outputs": [
        {
          "output_type": "stream",
          "name": "stdout",
          "text": [
            "Этот ключ отсутствует\n"
          ]
        }
      ]
    },
    {
      "cell_type": "code",
      "source": [
        "seasons_3 = {'winter': 'surprice_warm'}\n",
        "print(seasons_3.get('nonexistent_key'))"
      ],
      "metadata": {
        "colab": {
          "base_uri": "https://localhost:8080/"
        },
        "id": "9_I83GsrlJ-X",
        "outputId": "f30e0aa0-dea5-46a0-e95f-e42dd66de400"
      },
      "execution_count": 4,
      "outputs": [
        {
          "output_type": "stream",
          "name": "stdout",
          "text": [
            "None\n"
          ]
        }
      ]
    },
    {
      "cell_type": "code",
      "source": [
        "# items()\n",
        "pairs_dict = {'41': 41, '42': 42, '43': 43}\n",
        "print(pairs_dict.items())"
      ],
      "metadata": {
        "colab": {
          "base_uri": "https://localhost:8080/"
        },
        "id": "coJ9JBDTlNDw",
        "outputId": "e0ecb7ab-dc1c-4da2-ac41-749c1de476b2"
      },
      "execution_count": 5,
      "outputs": [
        {
          "output_type": "stream",
          "name": "stdout",
          "text": [
            "dict_items([('41', 41), ('42', 42), ('43', 43)])\n"
          ]
        }
      ]
    },
    {
      "cell_type": "code",
      "source": [
        "# keys()\n",
        "promo_dict = {'modelA': 100000, 'modelB': 300000, 'modelC': 120000}\n",
        "print(promo_dict.keys())"
      ],
      "metadata": {
        "colab": {
          "base_uri": "https://localhost:8080/"
        },
        "id": "XPLT5HjrlSyJ",
        "outputId": "b8596e8c-2986-41c0-eaa0-4e54a3097d64"
      },
      "execution_count": 6,
      "outputs": [
        {
          "output_type": "stream",
          "name": "stdout",
          "text": [
            "dict_keys(['modelA', 'modelB', 'modelC'])\n"
          ]
        }
      ]
    },
    {
      "cell_type": "code",
      "source": [
        "# values()\n",
        "palette = {'color1': 'red', 'color2': 'white', 'color3': 'purple'}\n",
        "print(palette.values())"
      ],
      "metadata": {
        "colab": {
          "base_uri": "https://localhost:8080/"
        },
        "id": "fo4ONan4lWvh",
        "outputId": "673c02cf-c5f4-472b-b69e-83dc0af7d67f"
      },
      "execution_count": 7,
      "outputs": [
        {
          "output_type": "stream",
          "name": "stdout",
          "text": [
            "dict_values(['red', 'white', 'purple'])\n"
          ]
        }
      ]
    },
    {
      "cell_type": "code",
      "source": [
        "# pop()\n",
        "id_dict = {'Alex': 101546, 'Rachel': 116453, 'Johanna': 144172}\n",
        "print(id_dict.pop('Alex'))"
      ],
      "metadata": {
        "colab": {
          "base_uri": "https://localhost:8080/"
        },
        "id": "7I_JdSG7laTp",
        "outputId": "a40979e4-cc7c-459b-b5a3-9c0ff1b68580"
      },
      "execution_count": 8,
      "outputs": [
        {
          "output_type": "stream",
          "name": "stdout",
          "text": [
            "101546\n"
          ]
        }
      ]
    },
    {
      "cell_type": "code",
      "source": [
        "# popitem()\n",
        "another_dict = {'t': 16, 'g': 53, 'y': 112, 'h': 23}\n",
        "print(another_dict.popitem())"
      ],
      "metadata": {
        "colab": {
          "base_uri": "https://localhost:8080/"
        },
        "id": "L1FxFJsLlkxs",
        "outputId": "6267dd42-8f84-465c-d003-5df3cf3d4bf3"
      },
      "execution_count": 9,
      "outputs": [
        {
          "output_type": "stream",
          "name": "stdout",
          "text": [
            "('h', 23)\n"
          ]
        }
      ]
    }
  ]
}