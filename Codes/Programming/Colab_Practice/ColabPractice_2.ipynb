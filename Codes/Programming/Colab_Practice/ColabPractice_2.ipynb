{
  "nbformat": 4,
  "nbformat_minor": 0,
  "metadata": {
    "colab": {
      "provenance": []
    },
    "kernelspec": {
      "name": "python3",
      "display_name": "Python 3"
    },
    "language_info": {
      "name": "python"
    }
  },
  "cells": [
    {
      "cell_type": "code",
      "execution_count": 12,
      "metadata": {
        "id": "Ky_GOCX7NvSP",
        "colab": {
          "base_uri": "https://localhost:8080/"
        },
        "outputId": "9a8450a4-d78d-42cc-977b-bd40c5fa8dd0"
      },
      "outputs": [
        {
          "output_type": "stream",
          "name": "stdout",
          "text": [
            "Решением первого уравнения будет: 1.5449987151855396\n",
            "Решением второго уравнения будет: -0.9768799415659628\n"
          ]
        }
      ],
      "source": [
        "import math\n",
        "# @title Математические вычисления с использованием библиотек { run: \"auto\", vertical-output: true }\n",
        "# @markdown Выберите номер примера, который необходимо решить:\n",
        "primer = '1_primer' #@param [\"1_primer\", \"2_primer\", \"3_primer\"]\n",
        "a = 3 # @param {type:\"integer\"}\n",
        "b = 2 # @param {type:\"integer\"}\n",
        "# @markdown Переменные для третьего примера:\n",
        "g = 2 # @param {type:\"integer\"}\n",
        "h = 3 # @param {type:\"integer\"}\n",
        "# @markdown Ответ:\n",
        "\n",
        "# Прописываю первые функции\n",
        "if primer == '1_primer':\n",
        "  if a != 0:\n",
        "    # Формула 1\n",
        "    chislitel = a + ((2 + b) / a**2)\n",
        "    znamenatel = b + (1) / (math.sqrt(a ** 2 + 10))\n",
        "    formula_1 = chislitel / znamenatel\n",
        "    # Формула 2\n",
        "    formula_2 = 7.25 * math.sin(a) - abs(b)\n",
        "    if znamenatel == 0:\n",
        "      print(\"Значение знаменателя не может быть равно 0!\")\n",
        "    else:\n",
        "        print(f\"Решением первого уравнения будет: {formula_1}\")\n",
        "        print(f\"Решением второго уравнения будет: {formula_2}\")\n",
        "  else:\n",
        "    print(\"Введено неподходящее значение a! для первой формулы\")\n",
        "\n",
        "# Прописываю вторые функции\n",
        "if primer == '2_primer':\n",
        "  # Формула 3\n",
        "  chislitel_3 = 2 / (a ** 2 + 25) + b\n",
        "  znamenatel_3 = math.sqrt(b) + (a + b) / 2\n",
        "  formula_3 = chislitel_3 / znamenatel_3\n",
        "  # Формула 4\n",
        "  chislitel_4 = abs(a) + 2 * math.sin(b)\n",
        "  znamenatel_4 = 5.5 * a\n",
        "  formula_4 = chislitel_4 / znamenatel_4\n",
        "  if znamenatel_3 == 0:\n",
        "    print(\"Введено неверное значение a или b.\" + \"\\n\" + \"Знаменатель не может быть равен 0\")\n",
        "    print(f\"Решением второго уравнения будет: {formula_4}\")\n",
        "  elif znamenatel_4 == 0:\n",
        "    print(f\"Решением первого уравнения будет: {formula_3}\")\n",
        "    print(\"Введено неверное значение a или b.\" + \"\\n\" + \"Знаменатель не может быть равен 0\")\n",
        "  elif znamenatel_3 == 0 and znamenatel_4 == 0:\n",
        "    print(\"Введено неверное значение a или b.\" + \"\\n\" + \"Знаменатель не может быть равен 0\")\n",
        "  else:\n",
        "    print(f\"Решением первого уравнения будет: {formula_3}\")\n",
        "    print(f\"Решением второго уравнения будет: {formula_4}\")\n",
        "\n",
        "# Прописываю третьи функции\n",
        "if primer == '3_primer':\n",
        "  # Формула 5\n",
        "  formula_5 = math.sqrt(abs(a - 3 / b) ** 3 + g)\n",
        "  # Формула 6\n",
        "  formula_6 = math.sin(a) + (math.cos(h)) ** 2\n",
        "  # Формула 7\n",
        "  chislitel_5 = 33 * g\n",
        "  znamenatel_5 = a * b - 3\n",
        "  formula_7 = chislitel_5 / znamenatel_5\n",
        "  if b == 0:\n",
        "    print(\"Введено неверное значение f\" + \"\\n\" + \"Знаменатель первой функции не может быть равен 0\")\n",
        "    print(f\"Решением второго уравнения будет: {formula_6}\")\n",
        "    print(f\"Решением третьего уравнения будет: {formula_7}\")\n",
        "  elif znamenatel_5 == 0:\n",
        "    print(f\"Решением первого уравнения будет: {formula_5}\")\n",
        "    print(f\"Решением второго уравнения будет: {formula_6}\")\n",
        "    print(\"Введено неверное значение e или f\" + \"\\n\" + \"Знаменатель третьей функции не может быть равен 0\")\n",
        "  else:\n",
        "    print(f\"Решением первого уравнения будет: {formula_5}\")\n",
        "    print(f\"Решением второго уравнения будет: {formula_6}\")\n",
        "    print(f\"Решением третьего уравнения будет: {formula_7}\")"
      ]
    },
    {
      "cell_type": "markdown",
      "source": [],
      "metadata": {
        "id": "f6eit0BZgO5Q"
      }
    }
  ]
}