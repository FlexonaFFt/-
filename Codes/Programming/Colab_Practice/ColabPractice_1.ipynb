{
  "nbformat": 4,
  "nbformat_minor": 0,
  "metadata": {
    "colab": {
      "provenance": []
    },
    "kernelspec": {
      "name": "python3",
      "display_name": "Python 3"
    },
    "language_info": {
      "name": "python"
    }
  },
  "cells": [
    {
      "cell_type": "markdown",
      "source": [
        "Выполнение первой практической работы в google colab"
      ],
      "metadata": {
        "id": "Hzdr3IqZ7sqF"
      }
    },
    {
      "cell_type": "code",
      "source": [
        "# Блок подключения переменных и создания интерфейса\n",
        "\n",
        "# @title Нахождение суммы двух чисел { run: \"auto\", vertical-output: true }\n",
        "# @markdown Введите a\n",
        "a = 5 # @param {type:\"integer\"}\n",
        "# @markdown Введите b\n",
        "b = 4 # @param {type:\"integer\"}\n",
        "# @markdown Введите c\n",
        "c = -5 # @param {type:\"integer\"}\n",
        "\n",
        "# Блок решения поставленной задачи:\n",
        "# Объявление переменной дискриминанта\n",
        "d = 0\n",
        "# Проверка на существование уравнения\n",
        "if a == 0 and b ==0:\n",
        "  print(f\"Число {c} не является уравнением!\")\n",
        "elif a == 0:\n",
        "  x = -c / b\n",
        "  print(f\"Уравнение {b}x + {c} линейное и его корень равен {x}\")\n",
        "  # Вычисления корней уравнения\n",
        "else:\n",
        "  d = int((b**2) - (4*a*c))\n",
        "  if d < 0:\n",
        "    if c < 0:\n",
        "      print(f\"У квадратного уравнения {a}x^2 + {b}x - {abs(c)} отсутствуют корни, так как дискриминант меньше 0\")\n",
        "    else:\n",
        "      print(f\"У квадратного уравнения {a}x^2 + {b}x + {c} отсутствуют корни, так как дискриминант меньше 0\")\n",
        "  elif d == 0:\n",
        "    xd = (-b) / (2*a)\n",
        "    if c < 0:\n",
        "      print(f\"У квадратного уравнения {a}x^2 + {b}x - {abs(c)} только один корень и он равен {xd}\")\n",
        "    else:\n",
        "      print(f\"У квадратного уравнения {a}x^2 + {b}x + {c} только один корень и он равен {xd}\")\n",
        "  else:\n",
        "    x1 = (-b + (d**1/2)) / (2*a)\n",
        "    x2 = (-b - (d**1/2)) / (2*a)\n",
        "    if c < 0:\n",
        "      print(f\"Корни квадратного уравнения {a}x^2 + {b}x - {abs(c)} равны {x1} и {x2}\")\n",
        "    else:\n",
        "      print(f\"Корни квадратного уравнения {a}x^2 + {b}x + {c} равны {x1} и {x2}\")"
      ],
      "metadata": {
        "colab": {
          "base_uri": "https://localhost:8080/"
        },
        "id": "1PVp2CEA72x-",
        "outputId": "461844dd-076a-40a2-8e7d-f66ee94605c8"
      },
      "execution_count": null,
      "outputs": [
        {
          "output_type": "stream",
          "name": "stdout",
          "text": [
            "Корни квадратного уравнения 5x^2 + 4x - 5 равны 5.4 и -6.2\n"
          ]
        }
      ]
    }
  ]
}