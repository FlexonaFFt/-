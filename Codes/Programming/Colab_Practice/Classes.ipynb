{
  "nbformat": 4,
  "nbformat_minor": 0,
  "metadata": {
    "colab": {
      "provenance": []
    },
    "kernelspec": {
      "name": "python3",
      "display_name": "Python 3"
    },
    "language_info": {
      "name": "python"
    }
  },
  "cells": [
    {
      "cell_type": "code",
      "execution_count": null,
      "metadata": {
        "id": "O1y2Mp1jhz7W"
      },
      "outputs": [],
      "source": [
        "class ItsCat:\n",
        "    def __init__(self, color):\n",
        "        self.color = color\n",
        "        self.type_ = \"cat\"\n",
        "\n",
        "    def meow(self):\n",
        "        for _ in range(3):\n",
        "            print(\"Мяу\")\n",
        "\n",
        "    def print_info(self):\n",
        "        print(self.color, self.type_)\n",
        "\n",
        "Matroskin = ItsCat('white')\n",
        "Matroskin.meow\n",
        "Matroskin.print_info"
      ]
    },
    {
      "cell_type": "code",
      "source": [
        "class Pie():\n",
        "  def __init__(self, topping, testo, size):\n",
        "    self.topping = topping\n",
        "    self.testo = testo\n",
        "    self.size = size\n",
        "    self.baked = False\n",
        "\n",
        "  def bake(self):\n",
        "    self.baked = True\n",
        "    print(f\"{self.topping} пирог размера ({self.size}) был испечён!\")\n",
        "\n",
        "  def add_topping(self, additional_topping):\n",
        "        self.topping += f\", {additional_topping}\"\n",
        "        print(f\"К пирогу добавлены дополнительные атрибуты в виде: ({additional_topping})\")\n",
        "\n",
        "  def description(self):\n",
        "    if self.baked == True:\n",
        "      print(f\"Этот {self.size} пирог {self.testo} с начинкой ({self.topping}) уже испечен.\")\n",
        "    else:\n",
        "      print(f\"Этот {self.size} пирог {self.testo} с начинкой ({self.topping}) ещё не испечен.\")\n",
        "\n",
        "apple_pie = Pie(\"яблочный\", \"на лёгком тесте\", \"средний\")\n",
        "apple_pie.description()\n",
        "apple_pie.bake()\n",
        "apple_pie.add_topping(\"взбитые сливки\")"
      ],
      "metadata": {
        "colab": {
          "base_uri": "https://localhost:8080/"
        },
        "id": "CTe8sDUNiPvW",
        "outputId": "83c1c23e-831e-45dd-c6cc-c082bc3f62b4"
      },
      "execution_count": null,
      "outputs": [
        {
          "output_type": "stream",
          "name": "stdout",
          "text": [
            "Этот средний пирог на лёгком тесте с начинкой (яблочный) ещё не испечен.\n",
            "яблочный пирог размера (средний) был испечён!\n",
            "К пирогу добавлены дополнительные атрибуты в виде: (взбитые сливки)\n"
          ]
        }
      ]
    }
  ]
}