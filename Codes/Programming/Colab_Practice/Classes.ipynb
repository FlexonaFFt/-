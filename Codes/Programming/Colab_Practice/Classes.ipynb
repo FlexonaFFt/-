{
  "nbformat": 4,
  "nbformat_minor": 0,
  "metadata": {
    "colab": {
      "provenance": []
    },
    "kernelspec": {
      "name": "python3",
      "display_name": "Python 3"
    },
    "language_info": {
      "name": "python"
    }
  },
  "cells": [
    {
      "cell_type": "code",
      "source": [
        "class Pie():\n",
        "\n",
        "  def __init__(self, topping, testo, size):\n",
        "    self.__brand = \"Пицца приготовлена брендом DoDo\"\n",
        "    self.topping = topping\n",
        "    self.testo = testo\n",
        "    self.size = size\n",
        "    self.baked = False\n",
        "\n",
        "  def bake(self):\n",
        "    self.baked = True\n",
        "    print(f\"{self.topping} пирог размера ({self.size}) был испечён!\")\n",
        "\n",
        "  def add_topping(self, additional_topping):\n",
        "        self.topping += f\", {additional_topping}\"\n",
        "        print(f\"К пирогу добавлены дополнительные атрибуты в виде: ({additional_topping})\")\n",
        "\n",
        "  def description(self):\n",
        "    if self.baked == True:\n",
        "      print(f\"Этот {self.size} пирог {self.testo} с начинкой ({self.topping}) уже испечен.\")\n",
        "    else:\n",
        "      print(f\"Этот {self.size} пирог {self.testo} с начинкой ({self.topping}) ещё не испечен.\")\n",
        "\n",
        "\n",
        "variant = int(input(\"Вариант решения: \"))\n",
        "if variant == 1:\n",
        "  apple_pie = Pie(\"вишнёвый\", \"на среднем тесте\", \"большой\")\n",
        "  apple_pie.description()\n",
        "  apple_pie.bake()\n",
        "  apple_pie.add_topping(\"ягодки\")\n",
        "\n",
        "elif variant == 2:\n",
        "  apple_pie = Pie(\"вишнёвый\", \"на среднем тесте\", \"большой\")\n",
        "  apple_pie._brand = 'Пицца приготовлена брендом Ташир'\n",
        "  print(apple_pie._Pie__brand)"
      ],
      "metadata": {
        "colab": {
          "base_uri": "https://localhost:8080/"
        },
        "outputId": "7ef8f84b-1a72-4631-de5c-518ccb7511f7",
        "id": "OGz4WqRDPStY"
      },
      "execution_count": null,
      "outputs": [
        {
          "output_type": "stream",
          "name": "stdout",
          "text": [
            "Вариант решения: 2\n",
            "Пицца приготовлена брендом DoDo\n"
          ]
        }
      ]
    },
    {
      "cell_type": "code",
      "source": [
        "class Pie():\n",
        "\n",
        "  def __init__(self, topping, testo, size):\n",
        "    self.__brand = \"Пирог приготовлена брендом DoDo\"\n",
        "    self.topping = topping\n",
        "    self.testo = testo\n",
        "    self.size = size\n",
        "    self.baked = False\n",
        "\n",
        "  def bake(self):\n",
        "    self.baked = True\n",
        "    print(f\"{self.topping} пирог размера ({self.size}) был испечён!\")\n",
        "\n",
        "  def description(self):\n",
        "    if self.baked == True:\n",
        "      print(f\"Этот {self.size} пирог {self.testo} с начинкой ({self.topping}) уже испечен.\")\n",
        "    else:\n",
        "      print(f\"Этот {self.size} пирог {self.testo} с начинкой ({self.topping}) ещё не испечен.\")\n",
        "\n",
        "class Pizza():\n",
        "\n",
        "  def __init__(self, topping, testo, size):\n",
        "    self.__brand = \"Пицца приготовлена брендом DoDo\"\n",
        "    self.topping = topping\n",
        "    self.testo = testo\n",
        "    self.size = size\n",
        "    self.baked = False\n",
        "\n",
        "  def bake(self):\n",
        "    self.baked = True\n",
        "    print(f\"{self.topping} пицца размера ({self.size}) была испечена!\")\n",
        "\n",
        "  def description(self):\n",
        "    if self.baked == True:\n",
        "      print(f\"Эта {self.size} пицца {self.testo} с начинкой ({self.topping}) уже испечена.\")\n",
        "    else:\n",
        "      print(f\"Эта {self.size} пицца {self.testo} с начинкой ({self.topping}) ещё не испечена.\")\n",
        "\n",
        "pirozhok = Pie(\"вишнёвый\", \"на среднем тесте\", \"большой\")\n",
        "pizza = Pizza('горчичная', 'на лёгком тесте', 'большая')\n",
        "\n",
        "for obj in (pirozhok, pizza):\n",
        "  obj.bake()\n",
        "  obj.description()\n",
        "  print(' ')"
      ],
      "metadata": {
        "colab": {
          "base_uri": "https://localhost:8080/"
        },
        "id": "CTe8sDUNiPvW",
        "outputId": "435a5d68-9caa-4650-df1f-7a6fab2bd829"
      },
      "execution_count": null,
      "outputs": [
        {
          "output_type": "stream",
          "name": "stdout",
          "text": [
            "вишнёвый пирог размера (большой) был испечён!\n",
            "Этот большой пирог на среднем тесте с начинкой (вишнёвый) уже испечен.\n",
            " \n",
            "горчичная пицца размера (большая) была испечена!\n",
            "Эта большая пицца на лёгком тесте с начинкой (горчичная) уже испечена.\n",
            " \n"
          ]
        }
      ]
    }
  ]
}