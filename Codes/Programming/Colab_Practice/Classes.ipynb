{
  "nbformat": 4,
  "nbformat_minor": 0,
  "metadata": {
    "colab": {
      "provenance": []
    },
    "kernelspec": {
      "name": "python3",
      "display_name": "Python 3"
    },
    "language_info": {
      "name": "python"
    }
  },
  "cells": [
    {
      "cell_type": "code",
      "source": [
        "class Pie():\n",
        "\n",
        "  def __init__(self, topping, testo, size):\n",
        "    self.__brand = \"Пицца приготовлена брендом DoDo\"\n",
        "    self.topping = topping\n",
        "    self.testo = testo\n",
        "    self.size = size\n",
        "    self.baked = False\n",
        "\n",
        "  def bake(self):\n",
        "    self.baked = True\n",
        "    print(f\"{self.topping} пирог размера ({self.size}) был испечён!\")\n",
        "\n",
        "  def add_topping(self, additional_topping):\n",
        "        self.topping += f\", {additional_topping}\"\n",
        "        print(f\"К пирогу добавлены дополнительные атрибуты в виде: ({additional_topping})\")\n",
        "\n",
        "  def description(self):\n",
        "    if self.baked == True:\n",
        "      print(f\"Этот {self.size} пирог {self.testo} с начинкой ({self.topping}) уже испечен.\")\n",
        "    else:\n",
        "      print(f\"Этот {self.size} пирог {self.testo} с начинкой ({self.topping}) ещё не испечен.\")\n",
        "\n",
        "\n",
        "variant = int(input(\"Вариант решения: \"))\n",
        "if variant == 1:\n",
        "  apple_pie = Pie(\"вишнёвый\", \"на среднем тесте\", \"большой\")\n",
        "  apple_pie.description()\n",
        "  apple_pie.bake()\n",
        "  apple_pie.add_topping(\"ягодки\")\n",
        "\n",
        "elif variant == 2:\n",
        "  apple_pie = Pie(\"вишнёвый\", \"на среднем тесте\", \"большой\")\n",
        "  apple_pie._brand = 'Пицца приготовлена брендом Ташир'\n",
        "  print(apple_pie._Pie__brand)"
      ],
      "metadata": {
        "colab": {
          "base_uri": "https://localhost:8080/"
        },
        "outputId": "7ef8f84b-1a72-4631-de5c-518ccb7511f7",
        "id": "OGz4WqRDPStY"
      },
      "execution_count": null,
      "outputs": [
        {
          "output_type": "stream",
          "name": "stdout",
          "text": [
            "Вариант решения: 2\n",
            "Пицца приготовлена брендом DoDo\n"
          ]
        }
      ]
    },
    {
      "cell_type": "code",
      "source": [
        "class Pie():\n",
        "\n",
        "  def __init__(self, topping, testo, size):\n",
        "    self.__brand = \"Пирог приготовлена брендом DoDo\"\n",
        "    self.topping = topping\n",
        "    self.testo = testo\n",
        "    self.size = size\n",
        "    self.baked = False\n",
        "\n",
        "  def bake(self):\n",
        "    self.baked = True\n",
        "    print(f\"{self.topping} пирог размера ({self.size}) был испечён!\")\n",
        "\n",
        "  def description(self):\n",
        "    if self.baked == True:\n",
        "      print(f\"Этот {self.size} пирог {self.testo} с начинкой ({self.topping}) уже испечен.\")\n",
        "    else:\n",
        "      print(f\"Этот {self.size} пирог {self.testo} с начинкой ({self.topping}) ещё не испечен.\")\n",
        "\n",
        "class Pizza():\n",
        "\n",
        "  def __init__(self, topping, testo, size):\n",
        "    self.__brand = \"Пицца приготовлена брендом DoDo\"\n",
        "    self.topping = topping\n",
        "    self.testo = testo\n",
        "    self.size = size\n",
        "    self.baked = False\n",
        "\n",
        "  def bake(self):\n",
        "    self.baked = True\n",
        "    print(f\"{self.topping} пицца размера ({self.size}) была испечена!\")\n",
        "\n",
        "  def description(self):\n",
        "    if self.baked == True:\n",
        "      print(f\"Эта {self.size} пицца {self.testo} с начинкой ({self.topping}) уже испечена.\")\n",
        "    else:\n",
        "      print(f\"Эта {self.size} пицца {self.testo} с начинкой ({self.topping}) ещё не испечена.\")\n",
        "\n",
        "pirozhok = Pie(\"вишнёвый\", \"на среднем тесте\", \"большой\")\n",
        "pizza = Pizza('горчичная', 'на лёгком тесте', 'большая')\n",
        "\n",
        "for obj in (pirozhok, pizza):\n",
        "  obj.bake()\n",
        "  obj.description()\n",
        "  print(' ')"
      ],
      "metadata": {
        "colab": {
          "base_uri": "https://localhost:8080/"
        },
        "id": "CTe8sDUNiPvW",
        "outputId": "435a5d68-9caa-4650-df1f-7a6fab2bd829"
      },
      "execution_count": null,
      "outputs": [
        {
          "output_type": "stream",
          "name": "stdout",
          "text": [
            "вишнёвый пирог размера (большой) был испечён!\n",
            "Этот большой пирог на среднем тесте с начинкой (вишнёвый) уже испечен.\n",
            " \n",
            "горчичная пицца размера (большая) была испечена!\n",
            "Эта большая пицца на лёгком тесте с начинкой (горчичная) уже испечена.\n",
            " \n"
          ]
        }
      ]
    },
    {
      "cell_type": "code",
      "source": [
        "class Baking:\n",
        "    def __init__(self, testo, size):\n",
        "        self.__brand = \"Продукт приготовлен брендом DoDo\"\n",
        "        self.testo = testo\n",
        "        self.size = size\n",
        "        self.baked = False\n",
        "\n",
        "    def bake(self):\n",
        "        self.baked = True\n",
        "        print(f\"Продукт был испечён на тесте ({self.testo})\")\n",
        "\n",
        "\n",
        "class LightBaking(Baking):\n",
        "    def __init__(self, size, count):\n",
        "        super().__init__(size, size)\n",
        "        self.count = count\n",
        "\n",
        "    def counter(self, count):\n",
        "        if count <= 0:\n",
        "            print(\"Покупатель не взял ни одного продукта...\")\n",
        "        else:\n",
        "            print(f\"Покупатель взял {self.count} таких изделия\")\n",
        "\n",
        "\n",
        "class Pie(Baking):\n",
        "    def __init__(self, topping, testo, size):\n",
        "        super().__init__(testo, size)\n",
        "        self.topping = topping\n",
        "\n",
        "    def bake(self):\n",
        "        self.baked = True\n",
        "        print(f\"Пирог размера ({self.size}) был испечён ({self.testo}) c начинкой ({self.topping})\")\n",
        "\n",
        "    def description(self):\n",
        "        if self.baked:\n",
        "            print(f\"Этот ({self.size}) пирог ({self.testo}) с начинкой ({self.topping}) уже испечен.\")\n",
        "        else:\n",
        "            print(f\"Этот ({self.size}) пирог ({self.testo}) с начинкой ({self.topping}) ещё не испечен.\")\n",
        "\n",
        "\n",
        "class Pizza(Baking):\n",
        "    def __init__(self, topping, testo, size):\n",
        "        super().__init__(testo, size)\n",
        "        self.topping = topping\n",
        "\n",
        "    def bake(self):\n",
        "        self.baked = True\n",
        "        print(f\"Пицца размера ({self.size}) была испечёна ({self.testo}) c начинкой ({self.topping})\")\n",
        "\n",
        "    def description(self):\n",
        "        if self.baked:\n",
        "            print(f\"Эта ({self.size}) пицца ({self.testo}) с начинкой ({self.topping}) уже испечена.\")\n",
        "        else:\n",
        "            print(f\"Эта ({self.size}) пицца ({self.testo}) с начинкой ({self.topping}) ещё не испечена.\")\n",
        "\n",
        "\n",
        "class Croissant(LightBaking):\n",
        "    def __init__(self, size, count):\n",
        "        super().__init__(size, count)\n",
        "\n",
        "    def descriprion(self):\n",
        "      print(f\"Это потрясающий французский круассан размера ({self.size})\")\n",
        "\n",
        "\n",
        "primer = int(input(\"Введите номер решаемого примера: \"))\n",
        "pirozhok = Pie(\"вишнёвый\", \"на среднем тесте\", \"большой\")\n",
        "pizza = Pizza('горчичная', 'на лёгком тесте', 'большая')\n",
        "\n",
        "if primer == 1:\n",
        "    pirozhok.bake()\n",
        "    pizza.bake()\n",
        "    print()\n",
        "    pirozhok.description()\n",
        "    pizza.description()\n",
        "\n",
        "elif primer == 2:\n",
        "    pirozhok = Pie(\"яблочный\", \"на лёгком тесте\", \"большой\")\n",
        "    pizza = Pizza('яблочная', 'на лёгком тесте', 'большая')\n",
        "    pirozhok.description()\n",
        "    pizza.description()\n",
        "\n",
        "elif primer == 3:\n",
        "    cross = Croissant('средний', 4)\n",
        "    cross.descriprion()\n",
        "    cross.counter(4)\n"
      ],
      "metadata": {
        "colab": {
          "base_uri": "https://localhost:8080/"
        },
        "id": "6-mx6S2ePhq1",
        "outputId": "2fb2ebdf-695d-46e3-a427-db9db81d8f75"
      },
      "execution_count": 7,
      "outputs": [
        {
          "output_type": "stream",
          "name": "stdout",
          "text": [
            "Введите номер решаемого примера: 3\n",
            "Это потрясающий французский круассан размера (средний)\n",
            "Покупатель взял 4 таких изделия\n"
          ]
        }
      ]
    },
    {
      "cell_type": "code",
      "source": [
        "class Animal:\n",
        "\n",
        "\n",
        "  def __init__(self, weight, length):\n",
        "    self.weight = weight\n",
        "    self.length = length\n",
        "\n",
        "  def eat(self):\n",
        "    print(\"Eating\")\n",
        "\n",
        "  def sleep(self):\n",
        "    print(\"Sleeping\")\n",
        "\n",
        "\n",
        "\n",
        "class Bird(Animal):\n",
        "\n",
        "\n",
        "  def __init__(self, weight, length, flying_speed):\n",
        "    super().__init__(weight, length)\n",
        "    self.flying_speed = flying_speed\n",
        "\n",
        "  def move(self):\n",
        "    print(\"Flying\")\n",
        "\n",
        "\n",
        "\n",
        "class Flightless(Bird):\n",
        "\n",
        "\n",
        "  def __init__(self, running_speed):\n",
        "    self.running_speed = running_speed\n",
        "\n",
        "  def move(self):\n",
        "    print(\"Running\")\n",
        "\n",
        "\n",
        "class Fish:\n",
        "\n",
        "  def swim(self):\n",
        "    print(\"Swimming\")\n",
        "\n",
        "\n",
        "\n",
        "class SwimingBird(Bird, Fish):\n",
        "  pass\n",
        "\n",
        "\n",
        "duck = SwimingBird(5, 5, 10)\n",
        "duck.eat()\n",
        "duck.swim()\n",
        "duck.move()\n",
        "duck.sleep()"
      ],
      "metadata": {
        "colab": {
          "base_uri": "https://localhost:8080/"
        },
        "id": "JCMwZyOLP2Cc",
        "outputId": "eb60828e-a6e5-4afb-a53a-466ea5e3e3c2"
      },
      "execution_count": null,
      "outputs": [
        {
          "output_type": "stream",
          "name": "stdout",
          "text": [
            "Eating\n",
            "Swimming\n",
            "Flying\n",
            "Sleeping\n"
          ]
        }
      ]
    }
  ]
}