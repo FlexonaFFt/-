{
  "nbformat": 4,
  "nbformat_minor": 0,
  "metadata": {
    "colab": {
      "provenance": []
    },
    "kernelspec": {
      "name": "python3",
      "display_name": "Python 3"
    },
    "language_info": {
      "name": "python"
    }
  },
  "cells": [
    {
      "cell_type": "markdown",
      "source": [
        "# Разбор темы 5 - методы множеств:\n",
        "---\n",
        "Метод copy() возвращает копию множества. Например:"
      ],
      "metadata": {
        "id": "pecJb110lyHL"
      }
    },
    {
      "cell_type": "code",
      "source": [
        "string_set = {\"Nicholas\", \"Michelle\", \"John\", \"Mercy\"}\n",
        "x = string_set.copy()\n",
        "print(x)"
      ],
      "metadata": {
        "colab": {
          "base_uri": "https://localhost:8080/"
        },
        "id": "vNwaF4WGnccI",
        "outputId": "a5212c78-b533-465b-eb18-68d0f463047d"
      },
      "execution_count": 1,
      "outputs": [
        {
          "output_type": "stream",
          "name": "stdout",
          "text": [
            "{'John', 'Nicholas', 'Michelle', 'Mercy'}\n"
          ]
        }
      ]
    },
    {
      "cell_type": "markdown",
      "source": [
        "Выдача показывает, что х является копией множества string_set.\n",
        "\n",
        "\n",
        "---\n",
        "\n"
      ],
      "metadata": {
        "id": "YCGnJnjln3mB"
      }
    },
    {
      "cell_type": "markdown",
      "source": [
        "Метод isdisjoint() проверяет, является ли множество пересечением или\n",
        "нет. Если множества не содержат общих элементов, метод возвращает True, в противном случае – False."
      ],
      "metadata": {
        "id": "lwBcni8goD3J"
      }
    },
    {
      "cell_type": "code",
      "source": [
        "names_a = {\"Nicholas\", \"Michelle\", \"John\", \"Mercy\"}\n",
        "names_b = {\"Jeff\", \"Bosco\", \"Teddy\", \"Milly\"}\n",
        "x = names_a.isdisjoint(names_b)\n",
        "print(x)"
      ],
      "metadata": {
        "id": "sXSCFGXfn5EJ"
      },
      "execution_count": null,
      "outputs": []
    },
    {
      "cell_type": "markdown",
      "source": [
        "Метод len() возвращает длину множества, которая является общим\n",
        "количеством элементов во множестве. Пример:"
      ],
      "metadata": {
        "id": "Fp1i-S-Popfu"
      }
    },
    {
      "cell_type": "code",
      "source": [
        "names_a = {\"Nicholas\", \"Michelle\", \"John\", \"Mercy\"}\n",
        "print(len(names_a))"
      ],
      "metadata": {
        "colab": {
          "base_uri": "https://localhost:8080/"
        },
        "id": "z5pgm-GOo5Ce",
        "outputId": "91491605-3d01-46e2-fc44-02b4aeefedf4"
      },
      "execution_count": 2,
      "outputs": [
        {
          "output_type": "stream",
          "name": "stdout",
          "text": [
            "4\n"
          ]
        }
      ]
    },
    {
      "cell_type": "markdown",
      "source": [
        "У объектов set есть несколько встроенных методов. Увидеть их все можно с помощью команды dir(). dir(object) в Python показывает самые важные атрибуты разных типов объектов\n"
      ],
      "metadata": {
        "id": "gB-9xGUepATC"
      }
    },
    {
      "cell_type": "code",
      "source": [
        "set1 = { 1, 2, 3, 4}\n",
        "print (dir(set1))"
      ],
      "metadata": {
        "id": "gJglNoE7pIcJ"
      },
      "execution_count": null,
      "outputs": []
    },
    {
      "cell_type": "markdown",
      "source": [],
      "metadata": {
        "id": "AZbElgD4pXac"
      }
    },
    {
      "cell_type": "markdown",
      "source": [
        "# Разбор темы 6 - Операции множеств в Python:\n",
        "---\n",
        "Предположим, у нас есть два множества, А и В. Объединение этих двух множеств — это множество со всеми элементами обеих множеств. Такая операция выполняется при помощи функции Python под названием union()."
      ],
      "metadata": {
        "id": "MmG_yJ7EpXma"
      }
    },
    {
      "cell_type": "code",
      "source": [
        "months_a = set([\"Jan\", \"Feb\", \"March\", \"Apr\", \"May\", \"June\"])\n",
        "months_b = set([\"July\", \"Aug\", \"Sep\", \"Oct\", \"Nov\", \"Dec\"])\n",
        "all_months = months_a.union(months_b)\n",
        "print(all_months)"
      ],
      "metadata": {
        "colab": {
          "base_uri": "https://localhost:8080/"
        },
        "id": "58cC5oCVqdsB",
        "outputId": "3de80be3-3f1f-4dcf-95c6-314b8649c5c4"
      },
      "execution_count": 3,
      "outputs": [
        {
          "output_type": "stream",
          "name": "stdout",
          "text": [
            "{'Oct', 'June', 'March', 'Jan', 'Feb', 'July', 'Nov', 'May', 'Apr', 'Dec', 'Aug', 'Sep'}\n"
          ]
        }
      ]
    },
    {
      "cell_type": "markdown",
      "source": [
        "Объединение может состоять из более чем двух множеств, и все их элементы сложатся в одно большое множество.\n",
        "\n",
        "---\n",
        "\n",
        "При выполнении операции объединения, дубликаты игнорируются, отображаться будет лишь один элемент"
      ],
      "metadata": {
        "id": "Ipz7VtCsq22-"
      }
    },
    {
      "cell_type": "code",
      "source": [
        "x = {1, 2, 3}\n",
        "y = {4, 3, 6}\n",
        "z = {7, 4, 9}\n",
        "output = x.union(y, z)\n",
        "print(output)"
      ],
      "metadata": {
        "colab": {
          "base_uri": "https://localhost:8080/"
        },
        "id": "AWJYpAfErB5v",
        "outputId": "670b97e5-172e-4d09-e1f8-887bb7e11517"
      },
      "execution_count": 4,
      "outputs": [
        {
          "output_type": "stream",
          "name": "stdout",
          "text": [
            "{1, 2, 3, 4, 6, 7, 9}\n"
          ]
        }
      ]
    },
    {
      "cell_type": "markdown",
      "source": [
        "Оператор | может также использоваться при поиске объединения двух\n",
        "или более множеств. Например:"
      ],
      "metadata": {
        "id": "7mb_aLb9rKuU"
      }
    },
    {
      "cell_type": "code",
      "source": [
        "months_a = set([\"Jan\",\"Feb\", \"March\", \"Apr\", \"May\", \"June\"])\n",
        "months_b = set([\"July\", \"Aug\", \"Sep\", \"Oct\", \"Nov\", \"Dec\"])\n",
        "print(months_a | months_b)"
      ],
      "metadata": {
        "colab": {
          "base_uri": "https://localhost:8080/"
        },
        "id": "GnSTsr1xrduN",
        "outputId": "360e9c2e-77ac-4e85-ee71-3b3cda43bffa"
      },
      "execution_count": 5,
      "outputs": [
        {
          "output_type": "stream",
          "name": "stdout",
          "text": [
            "{'Oct', 'June', 'March', 'Jan', 'Feb', 'July', 'Nov', 'May', 'Apr', 'Dec', 'Aug', 'Sep'}\n"
          ]
        }
      ]
    },
    {
      "cell_type": "markdown",
      "source": [
        "*Пересечение множеств:*\n",
        "\n",
        "Предположим, у вас есть два множества: А и В. Их пересечение представляет собой множество элементов, которые являются общими для А и для В."
      ],
      "metadata": {
        "id": "C0wCtfgsrjoN"
      }
    },
    {
      "cell_type": "code",
      "source": [
        "x = {1, 2, 3}\n",
        "y = {4, 3, 6}\n",
        "print(x & y)"
      ],
      "metadata": {
        "colab": {
          "base_uri": "https://localhost:8080/"
        },
        "id": "cVhAZ_GHsC9N",
        "outputId": "1db7fa62-cb2d-4961-d5b0-9fabb5438429"
      },
      "execution_count": 6,
      "outputs": [
        {
          "output_type": "stream",
          "name": "stdout",
          "text": [
            "{3}\n"
          ]
        }
      ]
    },
    {
      "cell_type": "code",
      "source": [
        "x = {1, 2, 3}\n",
        "y = {4, 3, 6}\n",
        "z = x.intersection(y)\n",
        "print(z)"
      ],
      "metadata": {
        "colab": {
          "base_uri": "https://localhost:8080/"
        },
        "id": "BkE7DbA6sKNU",
        "outputId": "1333f3f3-59bc-410b-827b-efdc2a38153a"
      },
      "execution_count": 7,
      "outputs": [
        {
          "output_type": "stream",
          "name": "stdout",
          "text": [
            "{3}\n"
          ]
        }
      ]
    },
    {
      "cell_type": "markdown",
      "source": [
        "*Разница между множествами (разность):*\n",
        "\n",
        "Предположим, у вас есть два множества: А и В. Разница между А и В (А — В) — это множество со всеми элементами, которые содержатся в А, но не в В. Соответственно, (В - А) — это множество со всеми элементами в В, но не в А\n",
        "\n",
        "Для определения разницы между множествами в Python, мы можем использовать как функцию difference(), так и оператор — . Рассмотрим пример:"
      ],
      "metadata": {
        "id": "37xSdAepsnJH"
      }
    },
    {
      "cell_type": "code",
      "source": [
        "set_a = {1, 2, 3, 4, 5}\n",
        "set_b = {4, 5, 6, 7, 8}\n",
        "diff_set = set_a.difference(set_b)\n",
        "print(diff_set)"
      ],
      "metadata": {
        "colab": {
          "base_uri": "https://localhost:8080/"
        },
        "id": "BLTAZpVltGek",
        "outputId": "98ee0d28-9896-42b3-cf66-1c005ee7cafd"
      },
      "execution_count": 8,
      "outputs": [
        {
          "output_type": "stream",
          "name": "stdout",
          "text": [
            "{1, 2, 3}\n"
          ]
        }
      ]
    },
    {
      "cell_type": "markdown",
      "source": [
        "Оператор минус - можно также применить для нахождения разницы между двумя множествами, как показано ниже:"
      ],
      "metadata": {
        "id": "rb_IhvIwtYT-"
      }
    },
    {
      "cell_type": "code",
      "source": [
        "set_a = {1, 2, 3, 4, 5}\n",
        "set_b = {4, 5, 6, 7, 8}\n",
        "print(set_a - set_b)"
      ],
      "metadata": {
        "colab": {
          "base_uri": "https://localhost:8080/"
        },
        "id": "LNf-EYz7tZUR",
        "outputId": "2fa452fd-1fe6-4d1e-fbd5-05fc92a74559"
      },
      "execution_count": 9,
      "outputs": [
        {
          "output_type": "stream",
          "name": "stdout",
          "text": [
            "{1, 2, 3}\n"
          ]
        }
      ]
    },
    {
      "cell_type": "markdown",
      "source": [
        "Симметричная разница между множествами А и В — это множество с элементами, которые находятся в А и В, за исключением тех элементов, которые являются общими для обеих множеств."
      ],
      "metadata": {
        "id": "onuoebG-tcpB"
      }
    },
    {
      "cell_type": "code",
      "source": [
        "set_a = {1, 2, 3, 4, 5}\n",
        "set_b = {4, 5, 6, 7, 8}\n",
        "symm_diff = set_a.symmetric_difference(set_b)\n",
        "print(symm_diff)"
      ],
      "metadata": {
        "colab": {
          "base_uri": "https://localhost:8080/"
        },
        "id": "0873W-totuYY",
        "outputId": "b783b4d2-6856-4206-8e0e-4d81b1c50779"
      },
      "execution_count": 10,
      "outputs": [
        {
          "output_type": "stream",
          "name": "stdout",
          "text": [
            "{1, 2, 3, 6, 7, 8}\n"
          ]
        }
      ]
    },
    {
      "cell_type": "markdown",
      "source": [
        "*Сравнение множеств:*\n",
        "\n",
        "Мы можем сравнить множества в зависимости от того, какие элементы в них содержатся. Таким образом, мы можем сказать, является ли множество родительским, или дочерним от другого множества. Результат такого сравнения будет либо True, либо False."
      ],
      "metadata": {
        "id": "a1lYZgjEuDtx"
      }
    },
    {
      "cell_type": "code",
      "source": [
        "months_a = set([\"Jan\", \"Feb\", \"March\", \"Apr\", \"May\", \"June\"])\n",
        "months_b = set([\"Jan\", \"Feb\", \"March\", \"Apr\", \"May\", \"June\", \"July\", \"Aug\",\n",
        "                \"Sep\", \"Oct\", \"Nov\", \"Dec\"])\n",
        "subset_check = months_a <= months_b\n",
        "superset_check = months_b >= months_a\n",
        "print(subset_check)\n",
        "print(superset_check)"
      ],
      "metadata": {
        "colab": {
          "base_uri": "https://localhost:8080/"
        },
        "id": "E7n_hbetuamX",
        "outputId": "43e17f2f-00fe-4c97-9c45-e5fa146c91c7"
      },
      "execution_count": 11,
      "outputs": [
        {
          "output_type": "stream",
          "name": "stdout",
          "text": [
            "True\n",
            "True\n"
          ]
        }
      ]
    },
    {
      "cell_type": "markdown",
      "source": [
        "Дочернее и родительское множество может также быть проверено при\n",
        "помощи методов issubset() и issuperset(), как показано ниже:"
      ],
      "metadata": {
        "id": "yn6D1318vG_K"
      }
    },
    {
      "cell_type": "code",
      "source": [
        "months_a = set([\"Jan\",\"Feb\", \"March\", \"Apr\", \"May\", \"June\"])\n",
        "months_b = set([\"Jan\",\"Feb\", \"March\", \"Apr\", \"May\", \"June\", \"July\", \"Aug\",\n",
        "                \"Sep\", \"Oct\", \"Nov\", \"Dec\"])\n",
        "subset_check = months_a.issubset(months_b)\n",
        "superset_check = months_b.issuperset(months_a)\n",
        "print(subset_check)\n",
        "print(superset_check)\n"
      ],
      "metadata": {
        "colab": {
          "base_uri": "https://localhost:8080/"
        },
        "id": "3mGqcfXyvIaI",
        "outputId": "397f095f-1b20-4638-db9e-fc26feec5c1c"
      },
      "execution_count": 16,
      "outputs": [
        {
          "output_type": "stream",
          "name": "stdout",
          "text": [
            "True\n",
            "True\n"
          ]
        }
      ]
    },
    {
      "cell_type": "markdown",
      "source": [
        "*Frozenset в python*\n",
        "\n",
        "Frozenset (замороженное множество) – это класс с характеристиками\n",
        "множества, однако, как только элементы становятся назначенными, их нельзя менять. Кортежи могут рассматриваться как неизменяемые списки, в то время как frozenset-ы — как неизменные множества."
      ],
      "metadata": {
        "id": "pzcg-WMXvmen"
      }
    },
    {
      "cell_type": "code",
      "source": [
        "X = frozenset([1, 2, 3, 4, 5, 6])\n",
        "Y = frozenset([4, 5, 6, 7, 8, 9])\n",
        "print(X)\n",
        "print(Y)"
      ],
      "metadata": {
        "colab": {
          "base_uri": "https://localhost:8080/"
        },
        "id": "gBgXpp-evsBj",
        "outputId": "8bc6685f-ab9c-49fa-ba9e-6b08de1c469b"
      },
      "execution_count": 17,
      "outputs": [
        {
          "output_type": "stream",
          "name": "stdout",
          "text": [
            "frozenset({1, 2, 3, 4, 5, 6})\n",
            "frozenset({4, 5, 6, 7, 8, 9})\n"
          ]
        }
      ]
    },
    {
      "cell_type": "markdown",
      "source": [
        "Замороженные множества поддерживают использование\n",
        "множественных методов Python, таких как copy(), difference(), symmetric_difference(), isdisjoint(), issubset(), intersection(), issuperset() и union().\n",
        "\n",
        "---"
      ],
      "metadata": {
        "id": "Iotzehy_vx9f"
      }
    }
  ]
}