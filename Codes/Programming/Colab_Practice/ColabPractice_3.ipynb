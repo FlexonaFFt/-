{
  "nbformat": 4,
  "nbformat_minor": 0,
  "metadata": {
    "colab": {
      "provenance": []
    },
    "kernelspec": {
      "name": "python3",
      "display_name": "Python 3"
    },
    "language_info": {
      "name": "python"
    }
  },
  "cells": [
    {
      "cell_type": "code",
      "execution_count": 7,
      "metadata": {
        "colab": {
          "base_uri": "https://localhost:8080/"
        },
        "id": "5GwIzKjIrqxm",
        "outputId": "85355558-7f0d-4eae-819b-e7b069be4d61"
      },
      "outputs": [
        {
          "output_type": "stream",
          "name": "stdout",
          "text": [
            "В результате L^2 равен [63.18]\n"
          ]
        }
      ],
      "source": [
        "# @title Интерполяция { run: \"auto\", vertical-output: true }\n",
        "# @markdown Введите значение 1:\n",
        "b = 0.4 # @param {type:\"number\"}\n",
        "# @markdown Введите значение 2:\n",
        "d = 0.5 # @param {type:\"number\"}\n",
        "\n",
        "import warnings\n",
        "warnings.filterwarnings(\"ignore\")\n",
        "from scipy.interpolate import interp2d\n",
        "\n",
        "x = [0, 0.2, 0.4, 0.6, 0.8, 1]\n",
        "y = [0.5, 2/3, 1, 1/5]\n",
        "z = [(98.78, 76.5, 63.18, 55.97, 51.85, 49.35),\n",
        "      (69.7, 55.09, 44.7, 38.38, 34.54, 32.08),\n",
        "      (45.85, 37.75, 30.79, 25.64, 22.13, 19.74),\n",
        "      (32.74,28.04, 23.64,19.72,16.58,14.26)]\n",
        "\n",
        "f = interp2d(x, y, z, kind = 'linear', fill_value = '-1')\n",
        "L = f(b, d)\n",
        "if L == -1:\n",
        "  print('Ваши данные выходят за пределы таблицы!')\n",
        "else:\n",
        "  print(\"В результате L^2 равен {}\".format(L))"
      ]
    }
  ]
}